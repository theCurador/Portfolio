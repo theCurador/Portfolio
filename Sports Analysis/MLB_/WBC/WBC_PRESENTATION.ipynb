{
 "cells": [
  {
   "cell_type": "markdown",
   "id": "70482d95-e0fb-49fc-831e-fcae379200c2",
   "metadata": {},
   "source": [
    "# WBC 2023 predictions "
   ]
  },
  {
   "cell_type": "markdown",
   "id": "4f8703a0-3369-44e7-bd4a-669dfccd77b2",
   "metadata": {},
   "source": [
    "### Introduction ###\n",
    "\n",
    "[X] Explanation of the World Baseball Classic (WBC) and its importance in baseball.\n",
    "[] Overview of the project goal: to gather information on WBC players and measure their probabilities for the upcoming 2023 tournament\n",
    "\n",
    "### Data Collection ###\n",
    "\n",
    "[] Explanation of the data source, such as Stathead or other websites that provide WBC player data.\n",
    "\n",
    "\n",
    "[] Overview of the web scraping process and tools used (e.g. Python libraries such as BeautifulSoup and requests).\n",
    "\n",
    "[] Discussion of data cleaning and preprocessing steps to ensure accuracy and consistency.\n",
    "\n",
    "### Exploratory Data Analysis ###\n",
    "\n",
    "[] Summary statistics and visualizations of the collected data, such as player demographics, team distribution, and performance metrics.\n",
    "\n",
    "[] Identification of any outliers, missing values, or potential biases in the data.\n",
    "\n",
    "[] Insights and trends observed from the data that may impact the analysis and prediction.\n",
    "\n",
    "### Model Building ###\n",
    "\n",
    "[] Explanation of the modeling approach, such as using a logistic regression or machine learning algorithm to predict player perfor.mance in the upcoming WBC\n",
    "\n",
    "[] Discussion of the input features used in the model, such as player statistics, historical performance, and team dynamics.\n",
    "\n",
    "[] Evaluation of the model's accuracy and validity through methods such as cross-validation or other statistical metrics.\n",
    "### Conclusion ###\n",
    "\n",
    "[] Summary of the project objectives and results achieved\n",
    ".\n",
    "[] Discussion of potential applications and implications of the analysis, such as identifying key players or teams to watch in the upcoming WBC.\n",
    "\n",
    "[] Suggestions for future research and improvements to the model or data collection process.."
   ]
  },
  {
   "cell_type": "markdown",
   "id": "2e6f7542-ebce-44e9-9a08-4e27a1e29362",
   "metadata": {},
   "source": [
    "The World Baseball Classic (WBC) is an international baseball tournament organized by the International Baseball Federation (IBAF) and Major League Baseball (MLB). It was first held in 2006 and is currently held every four years. The tournament features national teams from around the world, including countries such as the United States, Japan, Cuba, and the Dominican Republic.\n",
    "\n",
    "In this project, we aim to gather information about the athletes that play in the World Baseball Classic and use it to measure the probabilities for the upcoming 2023 tournament. To do this, we will scrape data from Stathead.com, a website that provides baseball statistics, and analyze it using Python and JupyterLab. Our goal is to provide valuable insights into the players and teams participating in the WBC, which can be useful for baseball enthusiasts, analysts, and bettors alike.\n",
    "\n"
   ]
  },
  {
   "cell_type": "markdown",
   "id": "0456170a-2f7f-4ea1-ad99-679eaa0d87dc",
   "metadata": {},
   "source": [
    "## Load the data "
   ]
  },
  {
   "cell_type": "code",
   "execution_count": 1,
   "id": "6af27f91-0c1c-4080-96ea-255f1ae30f9b",
   "metadata": {},
   "outputs": [],
   "source": [
    "#import libraries\n",
    "import os \n",
    "import requests\n",
    "from bs4 import BeautifulSoup\n",
    "import pandas as pd \n",
    "import calendar"
   ]
  },
  {
   "cell_type": "markdown",
   "id": "f95fc0ff-c1a4-4250-b8f0-f86db360bc2e",
   "metadata": {},
   "source": [
    "## Define the Var and create lists[]"
   ]
  },
  {
   "cell_type": "code",
   "execution_count": 2,
   "id": "a751b85a-2cca-4b80-a683-49178ae6f9c5",
   "metadata": {},
   "outputs": [],
   "source": [
    "# Define the years of interest\n",
    "years = [2006, 2009, 2013, 2017, 2023]\n",
    "pools = ['a', 'b', 'c', 'd', '1', '2']\n",
    "rounds = ['Qualifying', 'Semifinals', 'Championship']\n",
    "predictions_answer = ['L', 'W']\n",
    "\n",
    "# Create the lists\n",
    "pool_comp = [] \n",
    "qual_info = []\n",
    "\n",
    "base_camp_a = []\n",
    "base_camp_b = []\n",
    "\n",
    "# POOL A,B,C,D RESULTS\n",
    "pool_ar = []\n",
    "pool_br = []\n",
    "pool_cr = []\n",
    "pool_dr = []\n",
    "\n",
    "#  SUMMARY\n",
    "pool_as = []\n",
    "pool_bs = []\n",
    "pool_cs = []\n",
    "pool_ds = []\n",
    "\n",
    "#POOL 1 & 2 RESULTS\n",
    "pool_1r = []\n",
    "pool_2r = []\n",
    "pool_1s = []\n",
    "pool_2s = []\n",
    "\n",
    "#POOL playoffs RESULTS\n",
    "quarterfinals = []\n",
    "semifinals = []  \n",
    "champ_round = []\n",
    "\n",
    "# INFORMATION TABLE\n",
    "wbc_classic_team = []\n",
    "\n",
    "batting_leaders = []\n",
    "pitching_leaders = []\n",
    "\n",
    "final_standings = []\n",
    "wbc_champions = []\n",
    "\n",
    "# VENUES\n",
    "venues_a = []\n",
    "venues_b = []\n",
    "\n",
    "\n"
   ]
  },
  {
   "cell_type": "markdown",
   "id": "ef1c8b12-edf7-4516-921d-c8ec3631214f",
   "metadata": {},
   "source": [
    "### Loop the years and read the corresponding CSVs\n"
   ]
  },
  {
   "cell_type": "code",
   "execution_count": 3,
   "id": "9527d04a-3f58-41ce-96c1-77901d8b2477",
   "metadata": {},
   "outputs": [
    {
     "name": "stdout",
     "output_type": "stream",
     "text": [
      "No CSV file found for Pool ['a', 'b', 'c', 'd', '1', '2'] for the year 2006. Skipping...\n",
      "No CSV file found for Pool ['a', 'b', 'c', 'd', '1', '2'] for the year 2009. Skipping...\n",
      "No CSV file found for Pool ['a', 'b', 'c', 'd', '1', '2'] for the year 2013. Skipping...\n",
      "No CSV file found for Pool ['a', 'b', 'c', 'd', '1', '2'] for the year 2017. Skipping...\n",
      "No CSV file found for Pool ['a', 'b', 'c', 'd', '1', '2'] for the year 2023. Skipping...\n"
     ]
    }
   ],
   "source": [
    "for year in years:\n",
    "\n",
    "    # Pool Comp \n",
    "    if os.path.exists(f'WBC_data/{year}_pool_composition.csv'):\n",
    "        #process the CSV file\n",
    "        pool_comp.append(pd.read_csv(f'WBC_data/{year}_pool_composition.csv').assign(Year=year, Pools=''))\n",
    "    else:\n",
    "        print(f\"No CSV file found for Pool Composition for the year  {year}. Skipping...\")\n",
    "    \n",
    "    # POOL A,B,C,D RESULTS\n",
    "    if os.path.exists(f'WBC_data/{year}_pool_{pools}_results.csv'):\n",
    "        pool_ar.append(pd.read_csv(f'WBC_data/{year}_pool_{pools}_results.csv').assign(Year=year, Pool=''))\n",
    "    else:\n",
    "        print(f'No CSV file found for Pool {pools} for the year {year}. Skipping...')\n"
   ]
  },
  {
   "cell_type": "code",
   "execution_count": null,
   "id": "54daec75-953f-48e2-9d37-aec1a7dab5be",
   "metadata": {},
   "outputs": [],
   "source": [
    "# Create the DataFrame\n",
    "\n",
    "df = pd.DataFrame({\n",
    "    'year':years,\n",
    "    'pool':pools,\n",
    "    'round':rounds,\n",
    "    'prediction':predictions_answer,\n",
    "    'pool_comp':pool_comp,\n",
    "    'qual_info':qual_info,\n",
    "    'base_camp_a':base_camp_a,\n",
    "    'base_camp_b':base_camp_b,\n",
    "    'pool_ar':pool_ar,\n",
    "    'pool_br':pool_br,\n",
    "    'pool_cr':pool_cr,\n",
    "    'pool_dr':pool_dr,\n",
    "    'pool_as':pool_as,\n",
    "    'pool_bs':pool_bs,\n",
    "    'pool_cs':pool_cs,\n",
    "    'pool_ds':pool_ds,\n",
    "    'pool_1r':pool_1r,\n",
    "    'pool_2r':pool_2r,\n",
    "    'pool_1s':pool_1s,\n",
    "    'pool_2s':pool_2s,\n",
    "    'quarterfinals':quarterfinals,\n",
    "    'semifinals':semifinals,\n",
    "    'champ_round':champ_round,\n",
    "    'wbc_classic_team':wbc_classic_team,\n",
    "    'batting_leaders':batting_leaders,\n",
    "    'pitching_leaders':pitching_leaders,\n",
    "    'final_standings':final_standings,\n",
    "    'wbc_champions':wbc_champions,\n",
    "    'venues_a':venues_a,\n",
    "    'venues_b':venues_b\n",
    "    \n",
    "\n",
    "})"
   ]
  },
  {
   "cell_type": "code",
   "execution_count": 52,
   "id": "56e23a86-9cd2-4940-a3c7-6423b380b607",
   "metadata": {
    "scrolled": true,
    "tags": []
   },
   "outputs": [
    {
     "ename": "NameError",
     "evalue": "name 'pool_ar_06' is not defined",
     "output_type": "error",
     "traceback": [
      "\u001b[0;31m---------------------------------------------------------------------------\u001b[0m",
      "\u001b[0;31mNameError\u001b[0m                                 Traceback (most recent call last)",
      "\u001b[0;32m/var/folders/nx/50qt6bg15q70844qzhxhmsmm0000gn/T/ipykernel_78631/3809228033.py\u001b[0m in \u001b[0;36m<module>\u001b[0;34m\u001b[0m\n\u001b[0;32m----> 1\u001b[0;31m \u001b[0mpool_ar_06\u001b[0m\u001b[0;34m\u001b[0m\u001b[0;34m\u001b[0m\u001b[0m\n\u001b[0m",
      "\u001b[0;31mNameError\u001b[0m: name 'pool_ar_06' is not defined"
     ]
    }
   ],
   "source": [
    "pool_ar_06"
   ]
  },
  {
   "cell_type": "code",
   "execution_count": null,
   "id": "b01ff326-5b65-4315-ad0b-d619c8586599",
   "metadata": {},
   "outputs": [],
   "source": []
  },
  {
   "cell_type": "code",
   "execution_count": null,
   "id": "bd0e5cfa-cd66-437f-a370-1ee50a253d45",
   "metadata": {},
   "outputs": [],
   "source": []
  },
  {
   "cell_type": "code",
   "execution_count": null,
   "id": "f4e2d611-de6d-48e9-bee6-36e57d582773",
   "metadata": {},
   "outputs": [],
   "source": []
  }
 ],
 "metadata": {
  "kernelspec": {
   "display_name": "Python 3 (ipykernel)",
   "language": "python",
   "name": "python3"
  },
  "language_info": {
   "codemirror_mode": {
    "name": "ipython",
    "version": 3
   },
   "file_extension": ".py",
   "mimetype": "text/x-python",
   "name": "python",
   "nbconvert_exporter": "python",
   "pygments_lexer": "ipython3",
   "version": "3.9.13"
  }
 },
 "nbformat": 4,
 "nbformat_minor": 5
}
