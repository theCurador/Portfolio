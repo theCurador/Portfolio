{
 "cells": [
  {
   "cell_type": "markdown",
   "id": "3a8f4f67-e6da-407e-bb3b-236c66c25390",
   "metadata": {},
   "source": [
    "# TRY 2"
   ]
  },
  {
   "cell_type": "code",
   "execution_count": 6,
   "id": "ee3c8ab2-7bca-47bf-9d46-a19503b25877",
   "metadata": {},
   "outputs": [],
   "source": [
    "import os\n",
    "import time\n",
    "import requests\n",
    "from bs4 import BeautifulSoup\n",
    "\n",
    "SEASONS = list(range(2013,2023))\n",
    "DATA_DIR = \"data2\"\n",
    "STANDINGS_DIR = os.path.join(DATA_DIR, \"standings\")\n",
    "SCORES_DIR = os.path.join(DATA_DIR,\"scores\")\n",
    "\n",
    "async def get_html(url, selector, sleep=5, retries=3):\n",
    "    html = None\n",
    "    for i in range(1, retries + 1):\n",
    "        time.sleep(sleep)\n",
    "        try:\n",
    "            html = requests.get(url).text\n",
    "        except Exception as e:\n",
    "            print(f\"Attempt {i} failed to fetch data. Error: {e}\")\n",
    "        return html\n",
    "\n",
    "season = 2016\n",
    "url = f\"https://www.basketball-reference.com/leagues/NBA_{season}_games.html\"\n",
    "html = await get_html(url, \"#content\")\n",
    "soup = BeautifulSoup(html, \"html.parser\")\n",
    "links = soup.find_all(\"a\")\n",
    "href = [l[\"href\"] for l in links]\n",
    "standings_pages = [f\"https://basketball-reference.com{l}\" for l in href]\n",
    "\n",
    "# ...\n",
    "\n",
    "# Get the file name from the URL\n",
    "file_name = url.split(\"/\")[-1].split(\"?\")[0]\n",
    "\n",
    "# Join the file name with the directory path to get the full file path\n",
    "save_path = os.path.join(STANDINGS_DIR, file_name)\n",
    "\n",
    "# Write the HTML to the file\n",
    "with open(save_path, \"w\", encoding='utf-8') as f:\n",
    "\n",
    "    f.write(html)\n",
    "\n"
   ]
  },
  {
   "cell_type": "code",
   "execution_count": null,
   "id": "8a2a20e6-edc5-4b42-9788-a996cccc42dc",
   "metadata": {},
   "outputs": [],
   "source": []
  }
 ],
 "metadata": {
  "kernelspec": {
   "display_name": "Python 3 (ipykernel)",
   "language": "python",
   "name": "python3"
  },
  "language_info": {
   "codemirror_mode": {
    "name": "ipython",
    "version": 3
   },
   "file_extension": ".py",
   "mimetype": "text/x-python",
   "name": "python",
   "nbconvert_exporter": "python",
   "pygments_lexer": "ipython3",
   "version": "3.9.13"
  },
  "vscode": {
   "interpreter": {
    "hash": "de0e28da21d06122dc502f7bfd13ae23dc44a55daba82dff52158d9097f5c991"
   }
  }
 },
 "nbformat": 4,
 "nbformat_minor": 5
}
