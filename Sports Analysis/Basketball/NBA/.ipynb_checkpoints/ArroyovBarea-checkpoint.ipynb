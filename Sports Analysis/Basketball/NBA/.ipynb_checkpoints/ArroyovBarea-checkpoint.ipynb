{
 "cells": [
  {
   "cell_type": "markdown",
   "metadata": {},
   "source": [
    "# The Goat versus the King \n",
    "\n",
    "**The Greatest Ever! Will data finally put an end to the debate?**\n",
    "\n",
    "In this notebook I aim to finally measure and put my calculated point into which player is better.\n",
    "\n",
    "First, let's impor the requiered libraries:\n"
   ]
  },
  {
   "cell_type": "code",
   "execution_count": 3,
   "metadata": {},
   "outputs": [],
   "source": [
    "import pandas as pd \n",
    "import numpy as np \n",
    "import requests\n",
    "import matplotlib.pyplot as plt\n",
    "from sklearn.model_selection import train_test_split\n",
    "from nba_api.stats.static import teams\n",
    "from  nba_api.stats.static import players\n",
    "from nba_api.stats.endpoints import playercareerstats\n",
    "from nba_api.stats.endpoints import playerprofilev2\n",
    "from nba_api.stats.endpoints import shotchartdetail"
   ]
  },
  {
   "cell_type": "code",
   "execution_count": 4,
   "metadata": {},
   "outputs": [],
   "source": [
    "# Next, we define the headers for our API requests: \n",
    "\n",
    "headers = {\n",
    "    'Connection': 'keep-alive',\n",
    "    'Accept': 'application/json, text/plain, */*',\n",
    "    'x-nba-stats-token': 'true',\n",
    "    'User-Agent': 'Mozilla/5.0 (Macintosh; Intel Mac OS X 10_14_6) AppleWebKit/537.36 (KHTML, like Gecko) Chrome/79.0.3945.130 Safari/537.36',\n",
    "    'x-nba-stats-origin': 'stats',\n",
    "    'Sec-Fetch-Site': 'same-origin',\n",
    "    'Sec-Fetch-Mode': 'cors',\n",
    "    'Referer': 'https://stats.nba.com/',\n",
    "    'Accept-Encoding': 'gzip, deflate, br',\n",
    "    'Accept-Language': 'en-US,en;q=0.9',\n",
    "}\n"
   ]
  },
  {
   "cell_type": "code",
   "execution_count": 4,
   "metadata": {},
   "outputs": [],
   "source": [
    "# Define a dictionary to map players IDs to names \n",
    "player_names = { \n",
    "                893: 'Michael Jordan',\n",
    "                2544: 'Lebron James',\n",
    "                200826: 'Jose Juan Barea',\n",
    "                2306: 'Carlos Arroyo'}\n"
   ]
  },
  {
   "cell_type": "code",
   "execution_count": 6,
   "metadata": {},
   "outputs": [],
   "source": [
    "# Get career stasts for LeBron James\n",
    "lebron_id = '2544'\n",
    "lebron_career = playercareerstats.PlayerCareerStats(player_id=lebron_id)\n",
    "lebron_df = lebron_career.get_data_frames()[0]\n",
    "lebron_df['PLAYER_NAME'] = player_names[2544]"
   ]
  },
  {
   "cell_type": "code",
   "execution_count": 7,
   "metadata": {},
   "outputs": [],
   "source": [
    "\n",
    "# Get career stats for Michael Jordan \n",
    "mj_id = '893'\n",
    "mj_career = playercareerstats.PlayerCareerStats(player_id=mj_id)\n",
    "mj_df = mj_career.get_data_frames()[0]\n",
    "mj_df['PLAYER_NAME'] = player_names[893]\n"
   ]
  },
  {
   "cell_type": "code",
   "execution_count": 8,
   "metadata": {},
   "outputs": [],
   "source": [
    "# Get career stats for Jose Juan Barea \n",
    "barea_id = '200826'\n",
    "barea_careeer = playercareerstats.PlayerCareerStats(player_id=barea_id)\n",
    "barea_df = barea_careeer.get_data_frames()[0]\n",
    "barea_df['PLAYER_NAME'] = player_names[200826]\n",
    "\n",
    "# Get career stats for Carlos Arroyo\n",
    "arroyo_id = '2306'\n",
    "arroyo_careeer = playercareerstats.PlayerCareerStats(player_id=arroyo_id)\n",
    "arroyo_df = arroyo_careeer.get_data_frames()[0]\n",
    "arroyo_df['PLAYER_NAME'] = player_names[2306]\n",
    "\n",
    "\n"
   ]
  },
  {
   "cell_type": "code",
   "execution_count": 9,
   "metadata": {},
   "outputs": [],
   "source": [
    "\n",
    "\n",
    "# Get career totals and careers highs for Lebron James \n",
    "lebron_career_totals = playerprofilev2.PlayerProfileV2(per_mode36='Totals', player_id=lebron_id).career_totals_regular_season.get_data_frame()\n",
    "lebron_post_totals = playerprofilev2.PlayerProfileV2(per_mode36='Totals', player_id=lebron_id).career_totals_post_season.get_data_frame()\n",
    "lebron_career_highs = playerprofilev2.PlayerProfileV2(per_mode36='Totals', player_id=lebron_id).career_highs.get_data_frame() \n",
    "\n",
    "# Get career totals and careers highs for Michael Jordan \n",
    "jordan_career_totals = playerprofilev2.PlayerProfileV2(per_mode36='Totals', player_id=mj_id).career_totals_regular_season.get_data_frame()\n",
    "jordan_post_totals = playerprofilev2.PlayerProfileV2(per_mode36='Totals', player_id=mj_id).career_totals_post_season.get_data_frame()\n",
    "jordan_career_highs = playerprofilev2.PlayerProfileV2(per_mode36='Totals', player_id=mj_id).career_highs.get_data_frame() \n",
    "\n",
    "# Get career totals and careers highs for Jose Juan Barea\n",
    "barea_career_totals = playerprofilev2.PlayerProfileV2(per_mode36='Totals', player_id=barea_id).career_totals_regular_season.get_data_frame()\n",
    "barea_post_totals = playerprofilev2.PlayerProfileV2(per_mode36='Totals', player_id=barea_id).career_totals_post_season.get_data_frame()\n",
    "barea_career_highs = playerprofilev2.PlayerProfileV2(per_mode36='Totals', player_id=barea_id).career_highs.get_data_frame() \n",
    "\n",
    "# Get career totals and careers highs for Carlos Arroyo\n",
    "arroyo_career_totals = playerprofilev2.PlayerProfileV2(per_mode36='Totals', player_id=arroyo_id).career_totals_regular_season.get_data_frame()\n",
    "arroyo_post_totals = playerprofilev2.PlayerProfileV2(per_mode36='Totals', player_id=arroyo_id).career_totals_post_season.get_data_frame()\n",
    "arroyo_career_highs = playerprofilev2.PlayerProfileV2(per_mode36='Totals', player_id=arroyo_id).career_highs.get_data_frame() \n"
   ]
  },
  {
   "cell_type": "code",
   "execution_count": 15,
   "metadata": {},
   "outputs": [
    {
     "data": {
      "text/plain": [
       "Index(['PLAYER_ID', 'GAME_ID', 'GAME_DATE', 'VS_TEAM_ID', 'VS_TEAM_CITY',\n",
       "       'VS_TEAM_NAME', 'VS_TEAM_ABBREVIATION', 'STAT', 'STAT_VALUE',\n",
       "       'STAT_ORDER', 'DATE_EST'],\n",
       "      dtype='object')"
      ]
     },
     "execution_count": 15,
     "metadata": {},
     "output_type": "execute_result"
    }
   ],
   "source": [
    "lebron_career_highs.columns"
   ]
  },
  {
   "cell_type": "code",
   "execution_count": 10,
   "metadata": {},
   "outputs": [],
   "source": [
    "import random \n",
    "import matplotlib.pyplot as plt \n",
    "\n",
    "# Define hot zones for LeBron and Jordan\n",
    "lebron_zones = {'paint': [(0,0), (0,190), (160,190), (160,0), (0,0)],\n",
    "                'midrange': [(160,190), (240,190), (240,100), (160,100), (160,190)],\n",
    "                'three': [(240,190), (470,190), (470,0), (240,0), (240,190)]}\n",
    "\n",
    "jordan_zones = {'paint': [(0,0), (0,140), (140,140), (140,0), (0,0)],\n",
    "                'midrange': [(140,140), (220,140), (220,60), (140,60), (140,140)],\n",
    "                'three': [(220,140), (470,140), (470,0), (220,0), (220,140)]}"
   ]
  },
  {
   "cell_type": "code",
   "execution_count": 11,
   "metadata": {},
   "outputs": [],
   "source": [
    "# Define function to plot hot zones \n",
    "def plot_hot_zones(zones):\n",
    "    for zones, coords in zones.items():\n",
    "        x, y = zip(*coords)\n",
    "        plt.plot(x, y, color='gray', linestyle='--')\n",
    "        \n"
   ]
  },
  {
   "cell_type": "code",
   "execution_count": 20,
   "metadata": {},
   "outputs": [
    {
     "name": "stdout",
     "output_type": "stream",
     "text": [
      "LeBron wins: 1 Jordan wins: 9999\n",
      "LeBron PPG: 19.023869936820546 Jordan PPG: 23.56298784682022\n"
     ]
    }
   ],
   "source": [
    "# Simulate a 1-on-1 game between LeBron and Jordan \n",
    "lebron_score = 0\n",
    "jordan_score = 0\n",
    "lebron_wins = 0 \n",
    "jordan_wins = 0\n",
    "lebron_ppg = 0\n",
    "jordan_ppg = 0\n",
    "\n",
    "for i in range(10000):\n",
    "# Generate random stats for each player\n",
    "    lebron_pts = random.uniform(0, lebron_career_highs.loc[lebron_career_highs['STAT'] == 'PTS', 'STAT_VALUE'].values[0])\n",
    "    lebron_oreb = random.uniform(0, lebron_career_highs.loc[lebron_career_highs['STAT'] == 'OREB', 'STAT_VALUE'].values[0])\n",
    "    lebron_dreb = random.uniform(0, lebron_career_highs.loc[lebron_career_highs['STAT'] == 'DREB', 'STAT_VALUE'].values[0])\n",
    "    lebron_ast = random.uniform(0, lebron_career_highs.loc[lebron_career_highs['STAT'] == 'AST', 'STAT_VALUE'].values[0])\n",
    "    lebron_stl = random.uniform(0, lebron_career_highs.loc[lebron_career_highs['STAT'] == 'STL', 'STAT_VALUE'].values[0])\n",
    "    lebron_blk = random.uniform(0, lebron_career_highs.loc[lebron_career_highs['STAT'] == 'BLK', 'STAT_VALUE'].values[0])\n",
    "    lebron_fgm = random.uniform(0, lebron_career_highs.loc[lebron_career_highs['STAT'] == 'FGM', 'STAT_VALUE'].values[0])\n",
    "    lebron_fga = random.uniform(0, lebron_career_highs.loc[lebron_career_highs['STAT'] == 'FGA', 'STAT_VALUE'].values[0])\n",
    "    lebron_fg3m = random.uniform(0, lebron_career_highs.loc[lebron_career_highs['STAT'] == 'FG3M', 'STAT_VALUE'].values[0])\n",
    "    lebron_fg3a = random.uniform(0, lebron_career_highs.loc[lebron_career_highs['STAT'] == 'FG3A', 'STAT_VALUE'].values[0])\n",
    "    lebron_ftm = random.uniform(0, lebron_career_highs.loc[lebron_career_highs['STAT'] == 'FTM', 'STAT_VALUE'].values[0])\n",
    "    lebron_fta = random.uniform(0, lebron_career_highs.loc[lebron_career_highs['STAT'] == 'FTA', 'STAT_VALUE'].values[0])\n",
    "    \n",
    "    jordan_pts = random.uniform(0, jordan_career_highs.loc[jordan_career_highs['STAT'] == 'PTS', 'STAT_VALUE'].values[0])\n",
    "    jordan_oreb = random.uniform(0, jordan_career_highs.loc[jordan_career_highs['STAT'] == 'OREB', 'STAT_VALUE'].values[0])\n",
    "    jordan_dreb = random.uniform(0, jordan_career_highs.loc[jordan_career_highs['STAT'] == 'DREB', 'STAT_VALUE'].values[0])\n",
    "    jordan_ast = random.uniform(0, jordan_career_highs.loc[jordan_career_highs['STAT'] == 'AST', 'STAT_VALUE'].values[0])\n",
    "    jordan_stl = random.uniform(0, jordan_career_highs.loc[jordan_career_highs['STAT'] == 'STL', 'STAT_VALUE'].values[0])\n",
    "    jordan_blk = random.uniform(0, jordan_career_highs.loc[jordan_career_highs['STAT'] == 'BLK', 'STAT_VALUE'].values[0])\n",
    "    jordan_fgm = random.uniform(0, jordan_career_highs.loc[jordan_career_highs['STAT'] == 'FGM', 'STAT_VALUE'].values[0])\n",
    "    jordan_fga = random.uniform(0, jordan_career_highs.loc[jordan_career_highs['STAT'] == 'FGA', 'STAT_VALUE'].values[0])\n",
    "    jordan_fg3m = random.uniform(0, jordan_career_highs.loc[jordan_career_highs['STAT'] == 'FG3M', 'STAT_VALUE'].values[0])\n",
    "    jordan_fg3a = random.uniform(0, jordan_career_highs.loc[jordan_career_highs['STAT'] == 'FG3A', 'STAT_VALUE'].values[0])\n",
    "    jordan_ftm = random.uniform(0, jordan_career_highs.loc[jordan_career_highs['STAT'] == 'FTM', 'STAT_VALUE'].values[0])\n",
    "    jordan_fta = random.uniform(0, jordan_career_highs.loc[jordan_career_highs['STAT'] == 'FTA', 'STAT_VALUE'].values[0])\n",
    "    \n",
    "   \n",
    "    \n",
    "    # Add up points\n",
    "    lebron_score += lebron_fgm + lebron_ftm\n",
    "    jordan_score += jordan_fgm + jordan_ftm\n",
    "    \n",
    "     # Check who wins this game\n",
    "    if lebron_score > jordan_score:\n",
    "        lebron_wins += 1\n",
    "    elif jordan_score > lebron_score:\n",
    "        jordan_wins += 1\n",
    "    \n",
    "    # Calculate PPG for each player\n",
    "    lebron_ppg = lebron_score / (i + 1)\n",
    "    jordan_ppg = jordan_score / (i + 1)\n",
    "\n",
    "print(\"LeBron wins:\", lebron_wins, \"Jordan wins:\", jordan_wins)\n",
    "print(\"LeBron PPG:\", lebron_ppg, \"Jordan PPG:\", jordan_ppg)\n",
    "\n"
   ]
  },
  {
   "cell_type": "code",
   "execution_count": 1,
   "metadata": {},
   "outputs": [
    {
     "data": {
      "image/png": "[encoded data removed]",
      "text/plain": [
       "<Figure size 400x376 with 1 Axes>"
      ]
     },
     "metadata": {},
     "output_type": "display_data"
    },
    {
     "ename": "NameError",
     "evalue": "name 'shotchartdetail' is not defined",
     "output_type": "error",
     "traceback": [
      "\u001b[0;31m---------------------------------------------------------------------------\u001b[0m",
      "\u001b[0;31mNameError\u001b[0m                                 Traceback (most recent call last)",
      "Cell \u001b[0;32mIn[1], line 5\u001b[0m\n\u001b[1;32m      3\u001b[0m \u001b[39mfrom\u001b[39;00m \u001b[39mcreate_court\u001b[39;00m \u001b[39mimport\u001b[39;00m create_court\n\u001b[1;32m      4\u001b[0m \u001b[39m# Get shot data for Carlos Arroyo in the 2009-10 season\u001b[39;00m\n\u001b[0;32m----> 5\u001b[0m arroyo_shot_data \u001b[39m=\u001b[39m shotchartdetail\u001b[39m.\u001b[39mShotChartDetail(player_id\u001b[39m=\u001b[39m\u001b[39m'\u001b[39m\u001b[39m2306\u001b[39m\u001b[39m'\u001b[39m, team_id\u001b[39m=\u001b[39m\u001b[39m'\u001b[39m\u001b[39m1610612748\u001b[39m\u001b[39m'\u001b[39m, season_nullable\u001b[39m=\u001b[39m\u001b[39m'\u001b[39m\u001b[39m2009-10\u001b[39m\u001b[39m'\u001b[39m)\u001b[39m.\u001b[39mget_data_frames()[\u001b[39m0\u001b[39m]\n\u001b[1;32m      8\u001b[0m \u001b[39m# call the function \u001b[39;00m\n\u001b[1;32m      9\u001b[0m create_court()\n",
      "\u001b[0;31mNameError\u001b[0m: name 'shotchartdetail' is not defined"
     ]
    }
   ],
   "source": [
    "import matplotlib.colors as colors\n",
    "import matplotlib.patches as mpatches\n",
    "from create_court import create_court\n",
    "# Get shot data for Carlos Arroyo in the 2009-10 season\n",
    "arroyo_shot_data = shotchartdetail.ShotChartDetail(player_id='2306', team_id='1610612748', season_nullable='2009-10').get_data_frames()[0]\n",
    "\n",
    "\n",
    "# call the function \n",
    "create_court()\n",
    "\n"
   ]
  },
  {
   "cell_type": "code",
   "execution_count": null,
   "metadata": {},
   "outputs": [],
   "source": []
  },
  {
   "cell_type": "code",
   "execution_count": null,
   "metadata": {},
   "outputs": [],
   "source": []
  }
 ],
 "metadata": {
  "kernelspec": {
   "display_name": "Python 3",
   "language": "python",
   "name": "python3"
  },
  "language_info": {
   "codemirror_mode": {
    "name": "ipython",
    "version": 3
   },
   "file_extension": ".py",
   "mimetype": "text/x-python",
   "name": "python",
   "nbconvert_exporter": "python",
   "pygments_lexer": "ipython3",
   "version": "3.6.6+"
  },
  "vscode": {
   "interpreter": {
    "hash": "aee8b7b246df8f9039afb4144a1f6fd8d2ca17a180786b69acc140d282b71a49"
   }
  }
 },
 "nbformat": 4,
 "nbformat_minor": 2
}
