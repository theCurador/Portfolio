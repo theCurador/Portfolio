{
 "cells": [
  {
   "cell_type": "markdown",
   "id": "39ee4764",
   "metadata": {},
   "source": [
    "**headers**"
   ]
  },
  {
   "cell_type": "code",
   "execution_count": 1,
   "id": "69a9f354",
   "metadata": {},
   "outputs": [],
   "source": [
    "headers  = {\n",
    "    'Connection': 'keep-alive',\n",
    "    'Accept': 'application/json, text/plain, */*',\n",
    "    'x-nba-stats-token': 'true',\n",
    "    'User-Agent': 'Mozilla/5.0 (Macintosh; Intel Mac OS X 10_14_6) AppleWebKit/537.36 (KHTML, like Gecko) Chrome/79.0.3945.130 Safari/537.36',\n",
    "    'x-nba-stats-origin': 'stats',\n",
    "    'Sec-Fetch-Site': 'same-origin',\n",
    "    'Sec-Fetch-Mode': 'cors',\n",
    "    'Referer': 'https://stats.nba.com/',\n",
    "    'Accept-Encoding': 'gzip, deflate, br',\n",
    "    'Accept-Language': 'en-US,en;q=0.9',\n",
    "}"
   ]
  },
  {
   "cell_type": "code",
   "execution_count": 2,
   "id": "83c56c2b",
   "metadata": {},
   "outputs": [],
   "source": [
    "#import packages\n",
    "import pandas as pd\n",
    "import requests\n",
    "from nba_api.stats.static import players\n",
    "from nba_api.stats.endpoints import commonplayerinfo\n",
    "from nba_api.stats.endpoints import leaguegamefinder \n",
    "from nba_api.stats.endpoints import boxscoretraditionalv2\n",
    "from datetime import datetime, timedelta\n"
   ]
  },
  {
   "cell_type": "code",
   "execution_count": null,
   "id": "69599ce8",
   "metadata": {},
   "outputs": [],
   "source": [
    "# Retrieve all games for a specified season\n",
    "season = '2022-23'\n",
    "league_game_finder = leaguegamefinder.LeagueGameFinder(season_nullable=season)\n",
    "games_df = league_game_finder.get_data_frames()[0]\n",
    "\n"
   ]
  },
  {
   "cell_type": "code",
   "execution_count": null,
   "id": "481be683",
   "metadata": {},
   "outputs": [],
   "source": [
    "# Get a list of all team IDs from the games dataframe\n",
    "team_ids = games_df['TEAM_ID'].unique()\n",
    "\n",
    "# Initialize an empty list to store box scores for each team\n",
    "team_box_scores = []\n"
   ]
  },
  {
   "cell_type": "code",
   "execution_count": null,
   "id": "72f9321d",
   "metadata": {},
   "outputs": [],
   "source": [
    "\n",
    "# Iterate through all team IDs and retrieve box scores for their games\n",
    "for team_id in team_ids:\n",
    "    team_games_df = games_df[games_df['TEAM_ID'] == team_id]\n",
    "    game_ids = team_games_df['GAME_ID'].tolist()\n",
    "    box_scores = []\n",
    "    for game_id in game_ids:\n",
    "        box_score = boxscoretraditionalv2.BoxScoreTraditionalV2(game_id=game_id)\n",
    "        box_score_df = box_score.get_data_frames()[0]\n",
    "        box_scores.append(box_score_df)\n",
    "    team_box_score_df = pd.concat(box_scores, axis=0, ignore_index=True)\n",
    "    team_box_scores.append(team_box_score_df)\n",
    "\n"
   ]
  },
  {
   "cell_type": "code",
   "execution_count": null,
   "id": "c2647101",
   "metadata": {},
   "outputs": [],
   "source": [
    "# Concatenate all team box scores into a single dataframe\n",
    "full_team_box_scores_df = pd.concat(team_box_scores, axis=0, ignore_index=True)\n",
    "\n",
    "from nba_api.stats.endpoints import BoxScoreTraditionalV2\n",
    "\n",
    "box_scores = []\n",
    "\n",
    "for game_id in game_ids:\n",
    "    box_score = BoxScoreTraditionalV2(game_id=game_id)\n",
    "    box_score_df = box_score.get_data_frames()[0]\n",
    "    box_scores.append(box_score_df)\n"
   ]
  },
  {
   "cell_type": "code",
   "execution_count": null,
   "id": "293bbe01",
   "metadata": {},
   "outputs": [],
   "source": [
    "# Create a new DataFrame for the features\n",
    "game_data = pd.DataFrame(columns=['GAME_ID', 'TEAM_ID', 'FG_PCT', 'FG3_PCT', 'FT_PCT', 'OREB', 'DREB', 'REB', 'AST', 'STL', 'BLK', 'TOV', 'PF', 'PLUS_MINUS'])\n",
    "\n",
    "# Iterate through each game ID\n",
    "for game_id in game_ids:\n",
    "    # Get the box score for the game\n",
    "    box_score = boxscoretraditionalv2.BoxScoreTraditionalV2(game_id=game_id)\n",
    "    box_score_df = box_score.get_data_frames()[0]\n",
    "    \n",
    "    # Iterate through each team in the game\n",
    "    for team_id in box_score_df['TEAM_ID'].unique():\n",
    "        team_box_score_df = box_score_df[box_score_df['TEAM_ID'] == team_id]\n",
    "        \n",
    "        # Calculate the features for the team in the game\n",
    "        fg_pct = team_box_score_df['FG_PCT'].iloc[0]\n",
    "        fg3_pct = team_box_score_df['FG3_PCT'].iloc[0]\n",
    "        ft_pct = team_box_score_df['FT_PCT'].iloc[0]\n",
    "        oreb = team_box_score_df['OREB'].iloc[0]\n",
    "        dreb = team_box_score_df['DREB'].iloc[0]\n",
    "        reb = team_box_score_df['REB'].iloc[0]\n",
    "        ast = team_box_score_df['AST'].iloc[0]\n",
    "        stl = team_box_score_df['STL'].iloc[0]\n",
    "        blk = team_box_score_df['BLK'].iloc[0]\n",
    "        tov = team_box_score_df['TOV'].iloc[0]\n",
    "        pf = team_box_score_df['PF'].iloc[0]\n",
    "        plus_minus = team_box_score_df['PLUS_MINUS'].iloc[0]\n",
    "        \n",
    "        # Add the features to the game data DataFrame\n",
    "        game_data = game_data.append({'GAME_ID': game_id, 'TEAM_ID': team_id, 'FG_PCT': fg_pct, 'FG3_PCT': fg3_pct, 'FT_PCT': ft_pct, 'OREB': oreb, 'DREB': dreb, 'REB': reb, 'AST': ast\n"
   ]
  },
  {
   "cell_type": "code",
   "execution_count": null,
   "id": "4a9e3fa0",
   "metadata": {},
   "outputs": [],
   "source": [
    "\n",
    "# Iterate  game_data = game_data.append({'GAME_ID': game_id, 'TEAM_ID': team_id, 'FG_PCT': fg_pct, 'FG3_PCT': fg3_pct, 'FT_PCT': ft_pct, 'OREB': oreb, 'DREB': dreb, 'REB': reb, 'AST': ast, 'STL': stl, 'BLK': blk, 'TOV': tov, 'PF': pf, 'PLUS_MINUS': plus_minus}, ignore_index=True)\n",
    "# Add a column to the game_data DataFrame for the winning team\n",
    "game_data['WINNING_TEAM_ID'] = None\n",
    "\n",
    "# Iterate through each game ID\n",
    "for game_id in game_ids:\n",
    "    # Get the box score for the game\n",
    "    box_score = boxscoretraditionalv2.BoxScoreTraditionalV2(game_id=game_id)\n",
    "    box_score_df = box_score.get_data_frames()[0]\n",
    "    \n",
    "    # Determine the winning team for the game\n",
    "    if box_score_df['PLUS_MINUS'].iloc[0] > 0:\n",
    "        winning_team_id = box_score_df['TEAM_ID'].iloc[0]\n",
    "    else:\n",
    "        winning_team_id = box_score_df['TEAM_ID'].iloc[1]\n",
    "        \n",
    "    # Update the game_data DataFrame with the winning team ID\n",
    "    game_data.loc[game_data['GAME_ID'] == game_id, 'WINNING_TEAM_ID'] = winning_team_id\n",
    "\n"
   ]
  },
  {
   "cell_type": "code",
   "execution_count": null,
   "id": "f45b7691",
   "metadata": {},
   "outputs": [],
   "source": [
    "# Split the game_data DataFrame into training and testing sets\n",
    "train_data = game_data.sample(frac=0.8, random_state=1)\n",
    "test_data = game_data.drop(train_data.index)\n"
   ]
  },
  {
   "cell_type": "code",
   "execution_count": null,
   "id": "ad8244a0",
   "metadata": {},
   "outputs": [],
   "source": [
    "# Extract the features and target variables from the training and testing sets\n",
    "train_features = train_data.drop(['GAME_ID', 'TEAM_ID'], axis=1)\n",
    "train_targets = train_data['TEAM_ID']\n",
    "test_features = test_data.drop(['GAME_ID', 'TEAM_ID'], axis=1)\n",
    "test_targets = test_data['TEAM_ID']\n"
   ]
  },
  {
   "cell_type": "code",
   "execution_count": null,
   "id": "bbe9f784",
   "metadata": {},
   "outputs": [],
   "source": [
    "# Train a machine learning model on the training data\n",
    "from sklearn.ensemble import RandomForestClassifier\n",
    "model = RandomForestClassifier()\n",
    "model.fit(train_features, train_targets)\n",
    "\n",
    "# Test the machine learning model on the testing data\n",
    "predictions = model.predict(test_features)\n",
    "\n",
    "# Evaluate the accuracy of the machine learning model\n",
    "from sklearn.metrics import accuracy_score\n",
    "accuracy = accuracy_score(test_targets, predictions)\n",
    "print('Model accuracy:', accuracy)"
   ]
  },
  {
   "cell_type": "code",
   "execution_count": null,
   "id": "bf7deda9",
   "metadata": {},
   "outputs": [],
   "source": []
  },
  {
   "cell_type": "code",
   "execution_count": null,
   "id": "c0d3c775",
   "metadata": {},
   "outputs": [],
   "source": []
  }
 ],
 "metadata": {
  "kernelspec": {
   "display_name": "Python 3",
   "language": "python",
   "name": "python3"
  },
  "language_info": {
   "codemirror_mode": {
    "name": "ipython",
    "version": 3
   },
   "file_extension": ".py",
   "mimetype": "text/x-python",
   "name": "python",
   "nbconvert_exporter": "python",
   "pygments_lexer": "ipython3",
   "version": "3.6.6+"
  }
 },
 "nbformat": 4,
 "nbformat_minor": 5
}
