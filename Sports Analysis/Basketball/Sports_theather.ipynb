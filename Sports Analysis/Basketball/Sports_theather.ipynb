{
 "cells": [
  {
   "cell_type": "markdown",
   "metadata": {},
   "source": [
    "# Sports Theather\n",
    "\n",
    "This Notebook is for visualization for data. \n",
    "\n"
   ]
  },
  {
   "cell_type": "code",
   "execution_count": 17,
   "metadata": {},
   "outputs": [],
   "source": [
    "import matplotlib.pyplot as plt\n",
    "import matplotlib.patches as patches\n",
    "import matplotlib as mpl\n",
    "import json\n",
    "from mpl_toolkits.mplot3d import Axes3D\n",
    "from mpl_toolkits.mplot3d.art3d import Line3D"
   ]
  },
  {
   "attachments": {},
   "cell_type": "markdown",
   "metadata": {},
   "source": [
    "## Basketball"
   ]
  },
  {
   "attachments": {},
   "cell_type": "markdown",
   "metadata": {},
   "source": [
    "### Half-Court "
   ]
  },
  {
   "cell_type": "code",
   "execution_count": 7,
   "metadata": {},
   "outputs": [],
   "source": [
    "def draw_basketball_court(ax, color='black', lw=2, outer_lines=False):\n",
    "\n",
    "    # Short corner 3pt lines \n",
    "    ax.plot([-220, -220], [0, 140], linewidth=lw, color=color)\n",
    "    ax.plot([220, 220], [0, 140], linewidth=lw, color=color)\n",
    "    \n",
    "    # 3PT Arc\n",
    "    ax.add_artist(patches.Arc((0, 140), 440, 315, theta1=0, theta2=180, facecolor='none', edgecolor=color, lw=lw))\n",
    "    \n",
    "    # Lane and Key\n",
    "    ax.plot([-80, -80], [0, 190], linewidth=lw, color=color)\n",
    "    ax.plot([80, 80], [0, 190], linewidth=lw, color=color)\n",
    "    ax.plot([-60, -60], [0, 190], linewidth=lw, color=color)\n",
    "    ax.plot([60, 60], [0, 190], linewidth=lw, color=color)\n",
    "    ax.plot([-80, 80], [190, 190], linewidth=lw, color=color)\n",
    "    ax.add_artist(patches.Circle((0, 190), 60, facecolor='none', edgecolor=color, lw=lw))\n",
    "    \n",
    "    # Rim\n",
    "    ax.add_artist(patches.Circle((0, 60), 15, facecolor='none', edgecolor=color, lw=lw))\n",
    "    \n",
    "    # Backboard\n",
    "    ax.plot([-30, 30], [40, 40], linewidth=lw, color=color)\n",
    "    \n",
    "    # Outer lines\n",
    "    if outer_lines:\n",
    "        ax.plot([-250, -250], [0, 470], linewidth=lw, color=color)\n",
    "        ax.plot([250, 250], [0, 470], linewidth=lw, color=color)\n",
    "        ax.add_artist(patches.Rectangle((-250, 0), 500, 470, facecolor='none', edgecolor=color, lw=lw))\n",
    "\n",
    "    # Remove ticks\n",
    "    ax.set_xticks([])\n",
    "    ax.set_yticks([])\n",
    "    \n",
    "    # Set axis limits\n",
    "    ax.set_xlim(-250, 250)\n",
    "    ax.set_ylim(0, 470)\n",
    "    \n",
    "    return ax\n",
    "\n"
   ]
  },
  {
   "cell_type": "code",
   "execution_count": 8,
   "metadata": {},
   "outputs": [
    {
     "data": {
      "image/png": "[encoded data removed]",
      "text/plain": [
       "<Figure size 400x376 with 1 Axes>"
      ]
     },
     "metadata": {},
     "output_type": "display_data"
    }
   ],
   "source": [
    "# Draw basketball court\n",
    "fig = plt.figure(figsize=(4, 3.76))\n",
    "ax = fig.add_axes([0, 0, 1, 1])\n",
    "ax = draw_basketball_court(ax, 'black')\n",
    "plt.show()"
   ]
  },
  {
   "attachments": {},
   "cell_type": "markdown",
   "metadata": {},
   "source": [
    "## Full court\n"
   ]
  },
  {
   "cell_type": "code",
   "execution_count": 26,
   "metadata": {},
   "outputs": [],
   "source": []
  },
  {
   "cell_type": "code",
   "execution_count": 29,
   "metadata": {},
   "outputs": [
    {
     "ename": "ModuleNotFoundError",
     "evalue": "No module named 'basketball_court'",
     "output_type": "error",
     "traceback": [
      "\u001b[0;31m---------------------------------------------------------------------------\u001b[0m",
      "\u001b[0;31mModuleNotFoundError\u001b[0m                       Traceback (most recent call last)",
      "Cell \u001b[0;32mIn[29], line 3\u001b[0m\n\u001b[1;32m      1\u001b[0m \u001b[39mimport\u001b[39;00m \u001b[39mmatplotlib\u001b[39;00m\u001b[39m.\u001b[39;00m\u001b[39mpyplot\u001b[39;00m \u001b[39mas\u001b[39;00m \u001b[39mplt\u001b[39;00m\n\u001b[1;32m      2\u001b[0m \u001b[39mfrom\u001b[39;00m \u001b[39mmpl_toolkits\u001b[39;00m\u001b[39m.\u001b[39;00m\u001b[39mmplot3d\u001b[39;00m \u001b[39mimport\u001b[39;00m Axes3D\n\u001b[0;32m----> 3\u001b[0m \u001b[39mfrom\u001b[39;00m \u001b[39mbasketball_court\u001b[39;00m \u001b[39mimport\u001b[39;00m draw_full_basketball_court\n\u001b[1;32m      5\u001b[0m fig \u001b[39m=\u001b[39m plt\u001b[39m.\u001b[39mfigure()\n\u001b[1;32m      6\u001b[0m ax \u001b[39m=\u001b[39m fig\u001b[39m.\u001b[39madd_subplot(\u001b[39m111\u001b[39m, projection\u001b[39m=\u001b[39m\u001b[39m'\u001b[39m\u001b[39m3d\u001b[39m\u001b[39m'\u001b[39m)\n",
      "\u001b[0;31mModuleNotFoundError\u001b[0m: No module named 'basketball_court'"
     ]
    }
   ],
   "source": [
    "import matplotlib.pyplot as plt\n",
    "from mpl_toolkits.mplot3d import Axes3D\n",
    "from basketball_court import draw_full_basketball_court\n",
    "\n",
    "fig = plt.figure()\n",
    "ax = fig.add_subplot(111, projection='3d')\n",
    "draw_full_court(ax, color='black', lw=2, outer_lines=True)\n",
    "plt.show()\n"
   ]
  },
  {
   "cell_type": "code",
   "execution_count": null,
   "metadata": {},
   "outputs": [],
   "source": []
  }
 ],
 "metadata": {
  "kernelspec": {
   "display_name": "Python 3",
   "language": "python",
   "name": "python3"
  },
  "language_info": {
   "codemirror_mode": {
    "name": "ipython",
    "version": 3
   },
   "file_extension": ".py",
   "mimetype": "text/x-python",
   "name": "python",
   "nbconvert_exporter": "python",
   "pygments_lexer": "ipython3",
   "version": "3.10.7"
  },
  "orig_nbformat": 4,
  "vscode": {
   "interpreter": {
    "hash": "aee8b7b246df8f9039afb4144a1f6fd8d2ca17a180786b69acc140d282b71a49"
   }
  }
 },
 "nbformat": 4,
 "nbformat_minor": 2
}
