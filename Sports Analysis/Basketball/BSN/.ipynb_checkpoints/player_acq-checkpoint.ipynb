{
 "cells": [
  {
   "cell_type": "code",
   "execution_count": 1,
   "id": "7f141dfa-1b45-48b8-8b06-9a4702eb0cdc",
   "metadata": {},
   "outputs": [],
   "source": [
    "# Importing the necessary modules. \n",
    "import os\n",
    "import csv\n",
    "import requests\n",
    "import time\n",
    "from bs4 import BeautifulSoup\n",
    "import pandas as pd"
   ]
  },
  {
   "cell_type": "code",
   "execution_count": null,
   "id": "3156c21b-60e3-4597-a14a-05a35818af8c",
   "metadata": {},
   "outputs": [],
   "source": [
    "year = 2022\n",
    "month = range(10,13)\n",
    "game_num = range(1, 100)\n",
    "\n",
    "\n",
    "\n",
    "url = 'https://bsnpr.com/juegos/juego?r=BS'\n",
    "response = requests.get(url)\n",
    "soup = BeautifulSoup(response.content, 'html.parser')\n",
    "\n",
    "\n",
    "\n",
    "tables = soup.findAll(\"table\", class_=\"tabla_stats\")\n",
    "if len(tables)< 2:\n",
    "    print(f\" No boxscore found for date {date_str}\")\n",
    "else:\n",
    "    t_boxscore = tables[1]\n",
    "    t_hometeam = tables[2]\n",
    "    t_awayteam = tables[3]\n",
    "    \n",
    "t_boxscore\n"
   ]
  }
 ],
 "metadata": {
  "kernelspec": {
   "display_name": "Python 3 (ipykernel)",
   "language": "python",
   "name": "python3"
  },
  "language_info": {
   "codemirror_mode": {
    "name": "ipython",
    "version": 3
   },
   "file_extension": ".py",
   "mimetype": "text/x-python",
   "name": "python",
   "nbconvert_exporter": "python",
   "pygments_lexer": "ipython3",
   "version": "3.9.13"
  }
 },
 "nbformat": 4,
 "nbformat_minor": 5
}
