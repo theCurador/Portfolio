{
 "cells": [
  {
   "cell_type": "code",
   "execution_count": 3,
   "id": "a1250d2b",
   "metadata": {},
   "outputs": [
    {
     "ename": "ValueError",
     "evalue": "No objects to concatenate",
     "output_type": "error",
     "traceback": [
      "\u001b[0;31m---------------------------------------------------------------------------\u001b[0m",
      "\u001b[0;31mValueError\u001b[0m                                Traceback (most recent call last)",
      "\u001b[0;32m<ipython-input-3-df6069becf39>\u001b[0m in \u001b[0;36m<module>\u001b[0;34m\u001b[0m\n\u001b[1;32m     17\u001b[0m \u001b[0;34m\u001b[0m\u001b[0m\n\u001b[1;32m     18\u001b[0m \u001b[0;31m# Concatenate all dataframes into a single dataframe\u001b[0m\u001b[0;34m\u001b[0m\u001b[0;34m\u001b[0m\u001b[0m\n\u001b[0;32m---> 19\u001b[0;31m \u001b[0mdata\u001b[0m \u001b[0;34m=\u001b[0m \u001b[0mpd\u001b[0m\u001b[0;34m.\u001b[0m\u001b[0mconcat\u001b[0m\u001b[0;34m(\u001b[0m\u001b[0mall_data\u001b[0m\u001b[0;34m,\u001b[0m \u001b[0mignore_index\u001b[0m\u001b[0;34m=\u001b[0m\u001b[0;32mTrue\u001b[0m\u001b[0;34m)\u001b[0m\u001b[0;34m\u001b[0m\u001b[0m\n\u001b[0m\u001b[1;32m     20\u001b[0m \u001b[0;34m\u001b[0m\u001b[0m\n\u001b[1;32m     21\u001b[0m \u001b[0;31m# Print the first few rows of the data\u001b[0m\u001b[0;34m\u001b[0m\u001b[0;34m\u001b[0m\u001b[0m\n",
      "\u001b[0;32m~/lib/python3.6/site-packages/pandas/core/reshape/concat.py\u001b[0m in \u001b[0;36mconcat\u001b[0;34m(objs, axis, join, ignore_index, keys, levels, names, verify_integrity, sort, copy)\u001b[0m\n\u001b[1;32m    279\u001b[0m         \u001b[0mverify_integrity\u001b[0m\u001b[0;34m=\u001b[0m\u001b[0mverify_integrity\u001b[0m\u001b[0;34m,\u001b[0m\u001b[0;34m\u001b[0m\u001b[0m\n\u001b[1;32m    280\u001b[0m         \u001b[0mcopy\u001b[0m\u001b[0;34m=\u001b[0m\u001b[0mcopy\u001b[0m\u001b[0;34m,\u001b[0m\u001b[0;34m\u001b[0m\u001b[0m\n\u001b[0;32m--> 281\u001b[0;31m         \u001b[0msort\u001b[0m\u001b[0;34m=\u001b[0m\u001b[0msort\u001b[0m\u001b[0;34m,\u001b[0m\u001b[0;34m\u001b[0m\u001b[0m\n\u001b[0m\u001b[1;32m    282\u001b[0m     )\n\u001b[1;32m    283\u001b[0m \u001b[0;34m\u001b[0m\u001b[0m\n",
      "\u001b[0;32m~/lib/python3.6/site-packages/pandas/core/reshape/concat.py\u001b[0m in \u001b[0;36m__init__\u001b[0;34m(self, objs, axis, join, keys, levels, names, ignore_index, verify_integrity, copy, sort)\u001b[0m\n\u001b[1;32m    327\u001b[0m \u001b[0;34m\u001b[0m\u001b[0m\n\u001b[1;32m    328\u001b[0m         \u001b[0;32mif\u001b[0m \u001b[0mlen\u001b[0m\u001b[0;34m(\u001b[0m\u001b[0mobjs\u001b[0m\u001b[0;34m)\u001b[0m \u001b[0;34m==\u001b[0m \u001b[0;36m0\u001b[0m\u001b[0;34m:\u001b[0m\u001b[0;34m\u001b[0m\u001b[0m\n\u001b[0;32m--> 329\u001b[0;31m             \u001b[0;32mraise\u001b[0m \u001b[0mValueError\u001b[0m\u001b[0;34m(\u001b[0m\u001b[0;34m\"No objects to concatenate\"\u001b[0m\u001b[0;34m)\u001b[0m\u001b[0;34m\u001b[0m\u001b[0m\n\u001b[0m\u001b[1;32m    330\u001b[0m \u001b[0;34m\u001b[0m\u001b[0m\n\u001b[1;32m    331\u001b[0m         \u001b[0;32mif\u001b[0m \u001b[0mkeys\u001b[0m \u001b[0;32mis\u001b[0m \u001b[0;32mNone\u001b[0m\u001b[0;34m:\u001b[0m\u001b[0;34m\u001b[0m\u001b[0m\n",
      "\u001b[0;31mValueError\u001b[0m: No objects to concatenate"
     ]
    }
   ],
   "source": [
    "import os\n",
    "import pandas as pd\n",
    "\n",
    "# Set the directory containing the CSV files\n",
    "data_dir =\"dataset\"\n",
    "# Create an empty list to hold all dataframes\n",
    "all_data = []\n",
    "\n",
    "# Loop through all CSV files in the directory\n",
    "for file_name in os.listdir(data_dir):\n",
    "    if file_name.endswith(\".csv\"):\n",
    "        # Read in the CSV file\n",
    "        file_path = os.path.join(data_dir, file_name)\n",
    "        df = pd.read_csv(file_path)\n",
    "        # Append the dataframe to the list\n",
    "\n",
    "# Concatenate all dataframes into a single dataframe\n",
    "data = pd.concat(all_data, ignore_index=True)\n",
    "\n",
    "# Print the first few rows of the data\n",
    "print(data.head())\n"
   ]
  },
  {
   "cell_type": "code",
   "execution_count": 4,
   "id": "c88f86b4",
   "metadata": {},
   "outputs": [
    {
     "ename": "SyntaxError",
     "evalue": "EOL while scanning string literal (<ipython-input-4-5b342feb22bd>, line 40)",
     "output_type": "error",
     "traceback": [
      "\u001b[0;36m  File \u001b[0;32m\"<ipython-input-4-5b342feb22bd>\"\u001b[0;36m, line \u001b[0;32m40\u001b[0m\n\u001b[0;31m    'assists_\u001b[0m\n\u001b[0m             ^\u001b[0m\n\u001b[0;31mSyntaxError\u001b[0m\u001b[0;31m:\u001b[0m EOL while scanning string literal\n"
     ]
    }
   ],
   "source": [
    "import os\n",
    "import pandas as pd\n",
    "\n",
    "year = 2022\n",
    "path = f'./data/{year}/'\n",
    "\n",
    "# create an empty dataframe to store all the data\n",
    "all_data = pd.DataFrame()\n",
    "\n",
    "# loop through all the csv files in the path and append the data to the master dataframe\n",
    "for file in os.listdir(path):\n",
    "    if file.endswith('.csv'):\n",
    "        df = pd.read_csv(os.path.join(path, file))\n",
    "        all_data = pd.concat([all_data, df])\n",
    "\n",
    "# calculate net rating for each player in each game\n",
    "all_data['net_rating'] = all_data['offensive_rating'] - all_data['defensive_rating']\n",
    "\n",
    "# calculate home/away statistics for each player in each game\n",
    "all_data['home'] = all_data['location'].apply(lambda x: x == 'Home')\n",
    "all_data['points_home'] = all_data['home'].apply(lambda x: x * all_data['points'])\n",
    "all_data['points_away'] = all_data['home'].apply(lambda x: (1 - x) * all_data['points'])\n",
    "all_data['rebounds_home'] = all_data['home'].apply(lambda x: x * all_data['rebounds'])\n",
    "all_data['rebounds_away'] = all_data['home'].apply(lambda x: (1 - x) * all_data['rebounds'])\n",
    "all_data['assists_home'] = all_data['home'].apply(lambda x: x * all_data['assists'])\n",
    "all_data['assists_away'] = all_data['home'].apply(lambda x: (1 - x) * all_data['assists'])\n",
    "\n",
    "# group the data by player and calculate streak statistics\n",
    "player_data = all_data.groupby('player_id').agg(\n",
    "    {'points': ['mean', 'max', 'min'], \n",
    "     'rebounds': ['mean', 'max', 'min'], \n",
    "     'assists': ['mean', 'max', 'min'], \n",
    "     'net_rating': ['mean', 'max', 'min'],\n",
    "     'home': ['mean'],\n",
    "     'points_home': ['mean', 'max', 'min'],\n",
    "     'points_away': ['mean', 'max', 'min'],\n",
    "     'rebounds_home': ['mean', 'max', 'min'],\n",
    "     'rebounds_away': ['mean', 'max', 'min'],\n",
    "     'assists_home': ['mean', 'max', 'min'],\n",
    "     'assists_away': \n"
   ]
  },
  {
   "cell_type": "code",
   "execution_count": null,
   "id": "a45d9ad7",
   "metadata": {},
   "outputs": [],
   "source": []
  }
 ],
 "metadata": {
  "kernelspec": {
   "display_name": "Python 3",
   "language": "python",
   "name": "python3"
  },
  "language_info": {
   "codemirror_mode": {
    "name": "ipython",
    "version": 3
   },
   "file_extension": ".py",
   "mimetype": "text/x-python",
   "name": "python",
   "nbconvert_exporter": "python",
   "pygments_lexer": "ipython3",
   "version": "3.6.6+"
  }
 },
 "nbformat": 4,
 "nbformat_minor": 5
}
