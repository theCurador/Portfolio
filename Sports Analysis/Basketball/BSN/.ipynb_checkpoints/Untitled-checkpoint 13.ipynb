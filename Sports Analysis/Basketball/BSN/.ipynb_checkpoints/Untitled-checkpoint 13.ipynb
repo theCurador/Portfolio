{
 "cells": [
  {
   "cell_type": "code",
   "execution_count": 3,
   "id": "a1250d2b",
   "metadata": {},
   "outputs": [
    {
     "ename": "ValueError",
     "evalue": "No objects to concatenate",
     "output_type": "error",
     "traceback": [
      "\u001b[0;31m---------------------------------------------------------------------------\u001b[0m",
      "\u001b[0;31mValueError\u001b[0m                                Traceback (most recent call last)",
      "\u001b[0;32m<ipython-input-3-df6069becf39>\u001b[0m in \u001b[0;36m<module>\u001b[0;34m\u001b[0m\n\u001b[1;32m     17\u001b[0m \u001b[0;34m\u001b[0m\u001b[0m\n\u001b[1;32m     18\u001b[0m \u001b[0;31m# Concatenate all dataframes into a single dataframe\u001b[0m\u001b[0;34m\u001b[0m\u001b[0;34m\u001b[0m\u001b[0m\n\u001b[0;32m---> 19\u001b[0;31m \u001b[0mdata\u001b[0m \u001b[0;34m=\u001b[0m \u001b[0mpd\u001b[0m\u001b[0;34m.\u001b[0m\u001b[0mconcat\u001b[0m\u001b[0;34m(\u001b[0m\u001b[0mall_data\u001b[0m\u001b[0;34m,\u001b[0m \u001b[0mignore_index\u001b[0m\u001b[0;34m=\u001b[0m\u001b[0;32mTrue\u001b[0m\u001b[0;34m)\u001b[0m\u001b[0;34m\u001b[0m\u001b[0m\n\u001b[0m\u001b[1;32m     20\u001b[0m \u001b[0;34m\u001b[0m\u001b[0m\n\u001b[1;32m     21\u001b[0m \u001b[0;31m# Print the first few rows of the data\u001b[0m\u001b[0;34m\u001b[0m\u001b[0;34m\u001b[0m\u001b[0m\n",
      "\u001b[0;32m~/lib/python3.6/site-packages/pandas/core/reshape/concat.py\u001b[0m in \u001b[0;36mconcat\u001b[0;34m(objs, axis, join, ignore_index, keys, levels, names, verify_integrity, sort, copy)\u001b[0m\n\u001b[1;32m    279\u001b[0m         \u001b[0mverify_integrity\u001b[0m\u001b[0;34m=\u001b[0m\u001b[0mverify_integrity\u001b[0m\u001b[0;34m,\u001b[0m\u001b[0;34m\u001b[0m\u001b[0m\n\u001b[1;32m    280\u001b[0m         \u001b[0mcopy\u001b[0m\u001b[0;34m=\u001b[0m\u001b[0mcopy\u001b[0m\u001b[0;34m,\u001b[0m\u001b[0;34m\u001b[0m\u001b[0m\n\u001b[0;32m--> 281\u001b[0;31m         \u001b[0msort\u001b[0m\u001b[0;34m=\u001b[0m\u001b[0msort\u001b[0m\u001b[0;34m,\u001b[0m\u001b[0;34m\u001b[0m\u001b[0m\n\u001b[0m\u001b[1;32m    282\u001b[0m     )\n\u001b[1;32m    283\u001b[0m \u001b[0;34m\u001b[0m\u001b[0m\n",
      "\u001b[0;32m~/lib/python3.6/site-packages/pandas/core/reshape/concat.py\u001b[0m in \u001b[0;36m__init__\u001b[0;34m(self, objs, axis, join, keys, levels, names, ignore_index, verify_integrity, copy, sort)\u001b[0m\n\u001b[1;32m    327\u001b[0m \u001b[0;34m\u001b[0m\u001b[0m\n\u001b[1;32m    328\u001b[0m         \u001b[0;32mif\u001b[0m \u001b[0mlen\u001b[0m\u001b[0;34m(\u001b[0m\u001b[0mobjs\u001b[0m\u001b[0;34m)\u001b[0m \u001b[0;34m==\u001b[0m \u001b[0;36m0\u001b[0m\u001b[0;34m:\u001b[0m\u001b[0;34m\u001b[0m\u001b[0m\n\u001b[0;32m--> 329\u001b[0;31m             \u001b[0;32mraise\u001b[0m \u001b[0mValueError\u001b[0m\u001b[0;34m(\u001b[0m\u001b[0;34m\"No objects to concatenate\"\u001b[0m\u001b[0;34m)\u001b[0m\u001b[0;34m\u001b[0m\u001b[0m\n\u001b[0m\u001b[1;32m    330\u001b[0m \u001b[0;34m\u001b[0m\u001b[0m\n\u001b[1;32m    331\u001b[0m         \u001b[0;32mif\u001b[0m \u001b[0mkeys\u001b[0m \u001b[0;32mis\u001b[0m \u001b[0;32mNone\u001b[0m\u001b[0;34m:\u001b[0m\u001b[0;34m\u001b[0m\u001b[0m\n",
      "\u001b[0;31mValueError\u001b[0m: No objects to concatenate"
     ]
    }
   ],
   "source": [
    "import os\n",
    "import pandas as pd\n",
    "\n",
    "# Set the directory containing the CSV files\n",
    "data_dir =\"dataset\"\n",
    "# Create an empty list to hold all dataframes\n",
    "all_data = []\n",
    "\n",
    "# Loop through all CSV files in the directory\n",
    "for file_name in os.listdir(data_dir):\n",
    "    if file_name.endswith(\".csv\"):\n",
    "        # Read in the CSV file\n",
    "        file_path = os.path.join(data_dir, file_name)\n",
    "        df = pd.read_csv(file_path)\n",
    "        # Append the dataframe to the list\n",
    "\n",
    "# Concatenate all dataframes into a single dataframe\n",
    "data = pd.concat(all_data, ignore_index=True)\n",
    "\n",
    "# Print the first few rows of the data\n",
    "print(data.head())\n"
   ]
  },
  {
   "cell_type": "code",
   "execution_count": null,
   "id": "c88f86b4",
   "metadata": {},
   "outputs": [],
   "source": [
    "import pandas as pd\n",
    "import os\n",
    "\n",
    "# create an empty dataframe to store all the data\n",
    "all_data = pd.DataFrame()\n",
    "\n",
    "# loop through each csv file in the directory\n",
    "for filename in os.listdir('data/2010'):\n",
    "    if filename.endswith('.csv'):\n",
    "        filepath = os.path.join('data/2010', filename)\n",
    "        df = pd.read_csv(filepath)\n",
    "        \n",
    "        # calculate player's performance on home court advantage vs away\n",
    "        df['Home_Win'] = df.apply(lambda x: int(x['PTS'] > x['PTS.1']), axis=1)\n",
    "        df['Away_Win'] = df.apply(lambda x: int(x['PTS.1'] > x['PTS']), axis=1)\n",
    "        df['Home_Performance'] = df.apply(lambda x: x['PLUS_MINUS'] if x['Home_Win'] else -x['PLUS_MINUS'], axis=1)\n",
    "        df['Away_Performance'] = df.apply(lambda x: x['PLUS_MINUS'] if x['Away_Win'] else -x['PLUS_MINUS'], axis=1)\n",
    "\n",
    "        # calculate player's streaks\n",
    "        df['Win_Streak'] = df['WIN'].cumsum().where(df['WIN'] == 1, other=0)\n",
    "        df['Loss_Streak'] = df['WIN'].cumsum().where(df['WIN'] == 0, other=0)\n",
    "\n",
    "        # calculate player's +/- if they were traded before\n",
    "        df['Date'] = pd.to_datetime(df['Date'], format='%Y-%m-%d')\n",
    "        df['Team_Change'] = (df['Tm'] != df['Tm'].shift()).cumsum()\n",
    "        df['Previous_Team'] = df.groupby('Player')['Tm'].shift()\n",
    "        df['Previous_Team'] = df['Previous_Team'].fillna(method='ffill')\n",
    "        df['Previous_Team'] = df['Previous_Team'].where(df['Team_Change'] != 1, other='N/A')\n",
    "        df['Previous_Year'] = df.groupby('Player')['Date'].apply(lambda x: x.shift().dt.year)\n",
    "        df['Previous_Year'] = df['Previous_Year'].fillna(method='ffill')\n",
    "        df['Previous_Year'] = df['Previous_Year'].where(df['Team_Change'] != 1, other='N/A')\n",
    "        df['Previous_PLUS_MINUS'] = df.groupby(['Player', 'Previous_Team', 'Previous_Year'])['PLUS_MINUS'].cumsum().shift()\n",
    "        df['PLUS_MINUS'] = df['PLUS_MINUS'] - df['Previous_PLUS_MINUS']\n",
    "        \n",
    "        # add the processed data to the master dataframe\n",
    "        all_data = pd.concat([all_data, df], ignore_index=True)\n",
    "\n",
    "# group by player and calculate their PPG and other metrics\n",
    "player_data = all_data.groupby('Player').agg({\n",
    "    'PTS': 'mean',\n",
    "    'AST': 'mean',\n",
    "    'TRB': 'mean',\n",
    "    'STL': 'mean',\n",
    "    'BLK': 'mean',\n",
    "    'TOV': 'mean',\n",
    "    'Home_Performance': 'mean',\n",
    "    'Away_Performance': 'mean',\n",
    "    'Win_Streak': 'max',\n",
    "    'Loss_Streak': 'max'\n",
    "}).reset_index()\n",
    "\n",
    "# save the player data to a csv file\n",
    "player_data.to_csv('player_data.csv', index=False)\n"
   ]
  },
  {
   "cell_type": "code",
   "execution_count": null,
   "id": "c8eb09ee",
   "metadata": {},
   "outputs": [],
   "source": []
  }
 ],
 "metadata": {
  "kernelspec": {
   "display_name": "Python 3",
   "language": "python",
   "name": "python3"
  },
  "language_info": {
   "codemirror_mode": {
    "name": "ipython",
    "version": 3
   },
   "file_extension": ".py",
   "mimetype": "text/x-python",
   "name": "python",
   "nbconvert_exporter": "python",
   "pygments_lexer": "ipython3",
   "version": "3.6.6+"
  }
 },
 "nbformat": 4,
 "nbformat_minor": 5
}
