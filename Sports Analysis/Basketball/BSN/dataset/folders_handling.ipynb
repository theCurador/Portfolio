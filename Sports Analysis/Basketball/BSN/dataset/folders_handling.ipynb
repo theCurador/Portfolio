{
 "cells": [
  {
   "cell_type": "code",
   "execution_count": null,
   "metadata": {},
   "outputs": [],
   "source": [
    "import os\n",
    "import shutil\n",
    "\n",
    "categories = [\"fecha\", \"boxscore\", \"away\", \"home\"]\n",
    "years = range(2008, 2024) # Range is exclusive, so it will go up to 2023\n",
    "\n",
    "for category in categories:\n",
    "    for year in years:\n",
    "        source_folder = f\"C:\\Users\\SUPERVISOR\\Desktop\\Portfolio JZ\\Portfolio\\Sports Analysis\\Basketball\\BSN\\dataset/{year}/{category}\"\n",
    "        \n",
    "        destination_folder = f\"C:\\Users\\SUPERVISOR\\Desktop\\Portfolio JZ\\Portfolio\\Sports Analysis\\Basketball\\BSN\\dataset/merged/{category}\"\n",
    "        \n",
    "        for file in os.listdir(source_folder):\n",
    "            if file.endswith(\".csv\"):\n",
    "                shutil.copy(os.path.join(source_folder, file), destination_folder)\n"
   ]
  },
  {
   "cell_type": "code",
   "execution_count": null,
   "metadata": {},
   "outputs": [],
   "source": []
  }
 ],
 "metadata": {
  "kernelspec": {
   "display_name": "Distika",
   "language": "python",
   "name": "python3"
  },
  "language_info": {
   "name": "python",
   "version": "3.9.13"
  },
  "orig_nbformat": 4
 },
 "nbformat": 4,
 "nbformat_minor": 2
}
