{
 "cells": [
  {
   "attachments": {},
   "cell_type": "markdown",
   "metadata": {},
   "source": [
    "# streamlit app try"
   ]
  },
  {
   "cell_type": "code",
   "execution_count": 7,
   "metadata": {},
   "outputs": [
    {
     "name": "stdout",
     "output_type": "stream",
     "text": [
      "<class 'pandas.core.frame.DataFrame'>\n",
      "RangeIndex: 20000 entries, 0 to 19999\n",
      "Data columns (total 19 columns):\n",
      " #   Column            Non-Null Count  Dtype  \n",
      "---  ------            --------------  -----  \n",
      " 0   Simulated Games:  20000 non-null  int64  \n",
      " 1   LeBron wins:      20000 non-null  int64  \n",
      " 2   Jordan wins:      20000 non-null  int64  \n",
      " 3   LJ WIN prob       20000 non-null  float64\n",
      " 4   MJ WIN prob       20000 non-null  float64\n",
      " 5   Lebron(PPG)       20000 non-null  float64\n",
      " 6   Jordan (PPG)      20000 non-null  float64\n",
      " 7   LeBron OReb       20000 non-null  float64\n",
      " 8   Lebron DReb       20000 non-null  float64\n",
      " 9   LJ Total Reb      20000 non-null  float64\n",
      " 10  Jordan OReb       20000 non-null  float64\n",
      " 11  Jordan DReb       20000 non-null  float64\n",
      " 12  MJ Total Reb      20000 non-null  float64\n",
      " 13  LeBron 3PPGG      20000 non-null  float64\n",
      " 14  Jordan 3PPG       20000 non-null  float64\n",
      " 15  LeBron Blocks     20000 non-null  float64\n",
      " 16  Jordan Blocks     20000 non-null  float64\n",
      " 17  LeBron Steals     20000 non-null  float64\n",
      " 18  Jordan Steals     20000 non-null  float64\n",
      "dtypes: float64(16), int64(3)\n",
      "memory usage: 2.9 MB\n"
     ]
    }
   ],
   "source": [
    "import pandas as pd\n",
    "import streamlit as sl \n",
    "\n",
    "# load the DF\n",
    "results_df = pd.read_csv('Goat_results.csv')\n",
    "\n",
    "results_df.info()"
   ]
  },
  {
   "cell_type": "code",
   "execution_count": 8,
   "metadata": {},
   "outputs": [],
   "source": [
    "# Define a function to display the box score for a single game\n",
    "def display_boxscore(game_index):\n",
    "    sl.write(f\"### Game {game_index+1} Box Score\")\n",
    "    sl.write(\"Lebron\")\n",
    "    sl.write(f\"Points: {results_df.iloc[game_index]['Lebron(PPG)']}\")\n",
    "    sl.write(f\"Rebounds: {results_df.iloc[game_index]['LJ Total Reb']}\")\n",
    "    sl.write(f\"3-Pts: {results_df.iloc[game_index]['LeBron 3PPGG']}\")\n",
    "    sl.write(f\"Blocks: {results_df.iloc[game_index]['LeBron Blocks']}\")\n",
    "    sl.write(f\"Steals: {results_df.iloc[game_index]['LeBron Steals']}\")\n",
    "    sl.write(\"\")\n",
    "    sl.write(\"Jordan\")\n",
    "    sl.write(f\"Points: {results_df.iloc[game_index]['Jordan (PPG)']}\")\n",
    "    sl.write(f\"Rebounds: {results_df.iloc[game_index]['MJ Total Reb']}\")\n",
    "    sl.write(f\"3-Pointers: {results_df.iloc[game_index]['Jordan 3PPG']}\")\n",
    "    sl.write(f\"Blocks: {results_df.iloc[game_index]['Jordan Blocks']}\")\n",
    "    sl.write(f\"Steals: {results_df.iloc[game_index]['Jordan Steals']}\")\n"
   ]
  },
  {
   "cell_type": "code",
   "execution_count": 9,
   "metadata": {},
   "outputs": [],
   "source": [
    "# Define a function to display the overall recap\n",
    "def display_recap():\n",
    "    sl.write(\"### Overall Recap\")\n",
    "    sl.write(f\"Simulated Games: {results_df.shape[0]}\")\n",
    "    sl.write(f\"LeBron wins: {results_df['LeBron wins:'].sum()}\")\n",
    "    sl.write(f\"Jordan wins: {results_df['Jordan wins:'].sum()}\")\n",
    "    sl.write(f\"LJ WIN prob: {results_df['LJ WIN prob'].mean():.2%}\")\n",
    "    sl.write(f\"MJ WIN prob: {results_df['MJ WIN prob'].mean():.2%}\")\n"
   ]
  },
  {
   "cell_type": "code",
   "execution_count": 10,
   "metadata": {},
   "outputs": [
    {
     "name": "stderr",
     "output_type": "stream",
     "text": [
      "2023-05-01 22:22:06.190 Session state does not function when running a script without `streamlit run`\n"
     ]
    }
   ],
   "source": [
    "# Display the box score and overall recap for a selected game \n",
    "game_index = sl.slider(\"Select a game:\", 0, results_df.shape[0]-1)\n",
    "display_boxscore(game_index)\n",
    "display_recap()"
   ]
  },
  {
   "cell_type": "code",
   "execution_count": null,
   "metadata": {},
   "outputs": [],
   "source": []
  }
 ],
 "metadata": {
  "kernelspec": {
   "display_name": "Python 3",
   "language": "python",
   "name": "python3"
  },
  "language_info": {
   "codemirror_mode": {
    "name": "ipython",
    "version": 3
   },
   "file_extension": ".py",
   "mimetype": "text/x-python",
   "name": "python",
   "nbconvert_exporter": "python",
   "pygments_lexer": "ipython3",
   "version": "3.10.7"
  },
  "orig_nbformat": 4,
  "vscode": {
   "interpreter": {
    "hash": "aee8b7b246df8f9039afb4144a1f6fd8d2ca17a180786b69acc140d282b71a49"
   }
  }
 },
 "nbformat": 4,
 "nbformat_minor": 2
}
